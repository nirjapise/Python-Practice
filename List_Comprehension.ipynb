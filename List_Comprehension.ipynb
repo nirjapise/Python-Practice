{
 "cells": [
  {
   "cell_type": "markdown",
   "id": "107d4841-db87-436d-bd88-af43857fcfb4",
   "metadata": {},
   "source": [
    "# List Comprehension - Nirja\n",
    "\n",
    "Author: Nirja\n",
    "\n",
    "Date: August 20, 2025\n",
    "\n",
    "This notebook contains examples and practice problems based on list comprehension in Python."
   ]
  },
  {
   "cell_type": "markdown",
   "id": "72254256-9515-434d-9b82-ff40572e3115",
   "metadata": {},
   "source": [
    "1. Basic Examples"
   ]
  },
  {
   "cell_type": "code",
   "execution_count": 4,
   "id": "b19f7cea-3736-430e-ba86-8f7080c54ca4",
   "metadata": {},
   "outputs": [
    {
     "data": {
      "text/plain": [
       "[1, 2, 3, 4, 5, 6, 7, 8, 9]"
      ]
     },
     "execution_count": 4,
     "metadata": {},
     "output_type": "execute_result"
    }
   ],
   "source": [
    "#Example 1\n",
    "#Create a list of numbers from 0 to 9\n",
    "my_list=[num for num in range(1,10)]\n",
    "my_list"
   ]
  },
  {
   "cell_type": "code",
   "execution_count": 5,
   "id": "733b9531-8465-437b-9511-a29a73552f7f",
   "metadata": {},
   "outputs": [
    {
     "data": {
      "text/plain": [
       "[1, 4, 9, 16, 25, 36, 49, 64, 81, 100]"
      ]
     },
     "execution_count": 5,
     "metadata": {},
     "output_type": "execute_result"
    }
   ],
   "source": [
    "#Example 2\n",
    "#Squares of numbers\n",
    "abc=[1,2,3,4,5,6,7,8,9,10]\n",
    "x=[num**2 for num in abc]\n",
    "x"
   ]
  },
  {
   "cell_type": "code",
   "execution_count": 6,
   "id": "cddc66ab-6144-4f7c-a769-16cecc7e1ec5",
   "metadata": {},
   "outputs": [
    {
     "data": {
      "text/plain": [
       "[2, 4, 6, 8, 10]"
      ]
     },
     "execution_count": 6,
     "metadata": {},
     "output_type": "execute_result"
    }
   ],
   "source": [
    "#Example 3\n",
    "#Even numbers\n",
    "Evn_num=[num for num in range(1,11) if num%2==0]\n",
    "Evn_num"
   ]
  },
  {
   "cell_type": "markdown",
   "id": "dc0c9862-96e4-4b5b-9e2a-e2d69fc867d6",
   "metadata": {},
   "source": [
    "2. String Operations"
   ]
  },
  {
   "cell_type": "code",
   "execution_count": 11,
   "id": "ea29390f-09e1-4338-8be2-3995ab422d4a",
   "metadata": {},
   "outputs": [
    {
     "data": {
      "text/plain": [
       "['P', 'C', 'S', 'R']"
      ]
     },
     "execution_count": 11,
     "metadata": {},
     "output_type": "execute_result"
    }
   ],
   "source": [
    "#Example 1\n",
    "#First letter of each word\n",
    "word=[\"Python\",\"C++\",\"SQL\",\"R-language\"]\n",
    "x=[ltr[0] for ltr in word]\n",
    "x"
   ]
  },
  {
   "cell_type": "code",
   "execution_count": 12,
   "id": "0ea793d7-2547-429c-95ea-16077191d6bb",
   "metadata": {},
   "outputs": [
    {
     "data": {
      "text/plain": [
       "['sedan', 'suv', 'convertible', 'hatchback']"
      ]
     },
     "execution_count": 12,
     "metadata": {},
     "output_type": "execute_result"
    }
   ],
   "source": [
    "#Example 2\n",
    "#Lowercase conversion\n",
    "types_of_cars=[\"SEDAN\", \"SUV\", \"Convertible\" ,\"HATCHBACK\"]\n",
    "lowercase=[i.lower() for i in types_of_cars]\n",
    "lowercase"
   ]
  },
  {
   "cell_type": "markdown",
   "id": "1e59b47a-9f7f-4f97-8e0d-24e4c5652677",
   "metadata": {},
   "source": [
    "3. Conditional List Comprehensions"
   ]
  },
  {
   "cell_type": "code",
   "execution_count": 14,
   "id": "401c9b77-9076-4a2c-83a4-26c2c11daedb",
   "metadata": {},
   "outputs": [
    {
     "data": {
      "text/plain": [
       "[3, 6, 9, 12, 15, 18]"
      ]
     },
     "execution_count": 14,
     "metadata": {},
     "output_type": "execute_result"
    }
   ],
   "source": [
    "#Example 1\n",
    "#Numbers divisible by 3\n",
    "numbers=[num for num in range(1,21) if num%3==0]\n",
    "numbers"
   ]
  },
  {
   "cell_type": "code",
   "execution_count": 15,
   "id": "a3733db7-d5fa-4ddd-b68a-3999429916ec",
   "metadata": {},
   "outputs": [
    {
     "data": {
      "text/plain": [
       "['odd number',\n",
       " 2,\n",
       " 'odd number',\n",
       " 4,\n",
       " 'odd number',\n",
       " 6,\n",
       " 'odd number',\n",
       " 8,\n",
       " 'odd number',\n",
       " 10]"
      ]
     },
     "execution_count": 15,
     "metadata": {},
     "output_type": "execute_result"
    }
   ],
   "source": [
    "#Example 2\n",
    "#Replace odd numbers with 'odd'\n",
    "x=[num if num%2==0 else\"odd number\" for num in range(1,11)]\n",
    "x"
   ]
  },
  {
   "cell_type": "markdown",
   "id": "a46fd506-559a-419f-ae73-8ef2d1818dd5",
   "metadata": {},
   "source": [
    "##Practice Problems"
   ]
  },
  {
   "cell_type": "code",
   "execution_count": 19,
   "id": "35f3b24b-239c-4a12-8b89-4f0898f9f1bd",
   "metadata": {},
   "outputs": [
    {
     "data": {
      "text/plain": [
       "['c', 'm', 'p', 'r', 'h', 'n', 's', 'n']"
      ]
     },
     "execution_count": 19,
     "metadata": {},
     "output_type": "execute_result"
    }
   ],
   "source": [
    "#1.Create a list of all consonants in the word \"comprehension\".\n",
    "#Solution(code)\n",
    "word=\"comprehension\"\n",
    "consonants=[ltr for ltr in word if ltr not in 'aeiou']\n",
    "consonants"
   ]
  },
  {
   "cell_type": "code",
   "execution_count": 21,
   "id": "a3e0a01c-dac0-4342-afea-86483d81b288",
   "metadata": {},
   "outputs": [
    {
     "data": {
      "text/plain": [
       "[10, 20, 30, 40, 50, 60, 70, 80, 90, 100]"
      ]
     },
     "execution_count": 21,
     "metadata": {},
     "output_type": "execute_result"
    }
   ],
   "source": [
    "#2.Generate a list of numbers between 1 and 100 that are divisible by both 2 and 5.\n",
    "#Solution(code)\n",
    "numbers=[num for num in range(1,101) if num%2==0 and num%5==0]\n",
    "numbers"
   ]
  },
  {
   "cell_type": "code",
   "execution_count": 22,
   "id": "3153052e-c4e8-4a1f-a15e-bac174ed9c31",
   "metadata": {},
   "outputs": [
    {
     "data": {
      "text/plain": [
       "['Python', 'expressive', 'pragramming', 'language']"
      ]
     },
     "execution_count": 22,
     "metadata": {},
     "output_type": "execute_result"
    }
   ],
   "source": [
    "#3.Given a sentence, extract words longer than 4 letters.\n",
    "#Solution(code)\n",
    "sentence=\"Python is an expressive pragramming language\"\n",
    "words=[wrd for wrd in sentence.split() if len(wrd) > 4]\n",
    "words"
   ]
  },
  {
   "cell_type": "code",
   "execution_count": null,
   "id": "2368c90d-d5fa-4106-9477-ce5a1279fac6",
   "metadata": {},
   "outputs": [],
   "source": []
  }
 ],
 "metadata": {
  "kernelspec": {
   "display_name": "Python [conda env:base] *",
   "language": "python",
   "name": "conda-base-py"
  },
  "language_info": {
   "codemirror_mode": {
    "name": "ipython",
    "version": 3
   },
   "file_extension": ".py",
   "mimetype": "text/x-python",
   "name": "python",
   "nbconvert_exporter": "python",
   "pygments_lexer": "ipython3",
   "version": "3.12.7"
  }
 },
 "nbformat": 4,
 "nbformat_minor": 5
}
