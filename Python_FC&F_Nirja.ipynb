{
 "cells": [
  {
   "cell_type": "markdown",
   "id": "a063d189-3cba-4d59-a467-1c194bd54691",
   "metadata": {},
   "source": [
    "# Python Flow Control & Functions – Nirja \n",
    "\n",
    "Author: Nirja\n",
    "\n",
    "Date: July 09, 2025\n",
    "\n",
    "This notebook covers conditional statements, loops, and functions with examples.\n"
   ]
  },
  {
   "cell_type": "markdown",
   "id": "4632b666-af77-499e-b5fe-cb20ec8bf1c4",
   "metadata": {},
   "source": [
    "1. if-elif-else conditions:"
   ]
  },
  {
   "cell_type": "code",
   "execution_count": 14,
   "id": "cb2780b9-32f1-4809-a498-b52d6693af3c",
   "metadata": {},
   "outputs": [
    {
     "name": "stdout",
     "output_type": "stream",
     "text": [
      "What is your name?\n"
     ]
    }
   ],
   "source": [
    "#Example 1\n",
    "#To check name of a person:\n",
    "name=\"Julia\"\n",
    "if name==\"Maria\":\n",
    "    print(\"Hello Maria\")\n",
    "elif name==\"Markus\":\n",
    "    print(\"Hello Markus\")\n",
    "else:\n",
    "    print(\"What is your name?\")\n"
   ]
  },
  {
   "cell_type": "code",
   "execution_count": 15,
   "id": "d3404371-d388-433d-973c-811c71d4f5c9",
   "metadata": {},
   "outputs": [
    {
     "name": "stdout",
     "output_type": "stream",
     "text": [
      "Average Marks\n"
     ]
    }
   ],
   "source": [
    "#Example 2\n",
    "#To verify the grade based on the marks obtained:\n",
    "marks=45\n",
    "if marks>=90:\n",
    "    print(\"Grade: A+\")\n",
    "elif marks>=75:\n",
    "    print(\"Grade: A\")\n",
    "elif marks>=50:\n",
    "    print(\"Grade: B\")\n",
    "else:\n",
    "    print(\"Average Marks\")"
   ]
  },
  {
   "cell_type": "markdown",
   "id": "d2ea90a2-d4d3-40f7-b288-e3f7ecd47ed1",
   "metadata": {},
   "source": [
    "2. for loop"
   ]
  },
  {
   "cell_type": "code",
   "execution_count": 16,
   "id": "06c7f76f-7fef-4eb6-a64a-958a33c6342a",
   "metadata": {},
   "outputs": [
    {
     "name": "stdout",
     "output_type": "stream",
     "text": [
      "P\n",
      "y\n",
      "t\n",
      "h\n",
      "o\n",
      "n\n"
     ]
    }
   ],
   "source": [
    "#Example 1\n",
    "abc=('Python')\n",
    "for letter in abc:\n",
    "    print(letter)"
   ]
  },
  {
   "cell_type": "code",
   "execution_count": 17,
   "id": "7ac4197e-921c-4b79-9c11-260e969ca45a",
   "metadata": {},
   "outputs": [
    {
     "name": "stdout",
     "output_type": "stream",
     "text": [
      "Odd Number:\t 1\n",
      "Even Number:\t 2\n",
      "Odd Number:\t 3\n",
      "Even Number:\t 4\n",
      "Odd Number:\t 5\n",
      "Even Number:\t 6\n",
      "Odd Number:\t 7\n",
      "Even Number:\t 8\n",
      "Odd Number:\t 9\n",
      "Even Number:\t 10\n"
     ]
    }
   ],
   "source": [
    "#Example 2\n",
    "#To check if the numbers are even or odd\n",
    "x=[1,2,3,4,5,6,7,8,9,10]\n",
    "for num in x:\n",
    "    if num%2==0:\n",
    "        print(\"Even Number:\\t\",num)   #\\t -: tab space\n",
    "    else:\n",
    "        print(\"Odd Number:\\t\",num)\n",
    "    \n"
   ]
  },
  {
   "cell_type": "code",
   "execution_count": 3,
   "id": "020e89c5-6f72-4c87-980e-0e9dca6c4802",
   "metadata": {},
   "outputs": [
    {
     "name": "stdout",
     "output_type": "stream",
     "text": [
      "1 2\n",
      "3 4\n",
      "5 6\n"
     ]
    }
   ],
   "source": [
    "#Example 3\n",
    "#Tuple Unpacking\n",
    "my_tup=[(1,2),(3,4),(5,6)]\n",
    "for a,b in my_tup:\n",
    "    print(a, b)"
   ]
  },
  {
   "cell_type": "code",
   "execution_count": 2,
   "id": "13548317-ee7d-439d-93c9-14974277929f",
   "metadata": {},
   "outputs": [
    {
     "name": "stdout",
     "output_type": "stream",
     "text": [
      "1\n",
      "2\n",
      "3\n",
      "4\n",
      "5\n",
      "6\n",
      "7\n",
      "8\n",
      "9\n",
      "10\n"
     ]
    }
   ],
   "source": [
    "#Example 4\n",
    "#for loop with range()\n",
    "#To print numbers from 1 to 10\n",
    "for i in range(1,11):\n",
    "    print(i)"
   ]
  },
  {
   "cell_type": "markdown",
   "id": "2deaaf90-ed2c-4263-9ff7-ff7ad04587a4",
   "metadata": {},
   "source": [
    "3. While Loop"
   ]
  },
  {
   "cell_type": "code",
   "execution_count": 20,
   "id": "59384955-7966-4667-861f-040ab404c880",
   "metadata": {},
   "outputs": [
    {
     "name": "stdout",
     "output_type": "stream",
     "text": [
      "0\n",
      "1\n",
      "2\n",
      "3\n",
      "4\n",
      "5\n",
      "6\n",
      "7\n",
      "8\n",
      "9\n",
      "10\n"
     ]
    }
   ],
   "source": [
    "#Example 1\n",
    "#Print numbers from 0-10\n",
    "x=0\n",
    "while x<11:\n",
    "    print(x)\n",
    "    x=1+x"
   ]
  },
  {
   "cell_type": "code",
   "execution_count": 21,
   "id": "c5491072-37df-4394-adfb-7431e149486b",
   "metadata": {},
   "outputs": [
    {
     "name": "stdout",
     "output_type": "stream",
     "text": [
      "5\n",
      "4\n",
      "3\n",
      "2\n",
      "1\n"
     ]
    }
   ],
   "source": [
    "#Example 2\n",
    "#reversed numbers from 5\n",
    "num = 5\n",
    "while num > 0:\n",
    "    print(num)\n",
    "    num -= 1\n"
   ]
  },
  {
   "cell_type": "markdown",
   "id": "b3973acc-7bcd-439c-b46d-6c3629703119",
   "metadata": {},
   "source": [
    "4.  Loop Control:  break, continue, pass"
   ]
  },
  {
   "cell_type": "code",
   "execution_count": 22,
   "id": "b25ea720-2220-4c04-ad61-e4801bed3e99",
   "metadata": {},
   "outputs": [
    {
     "name": "stdout",
     "output_type": "stream",
     "text": [
      "1\n",
      "2\n",
      "3\n",
      "4\n",
      "5\n",
      "6\n"
     ]
    }
   ],
   "source": [
    "#break\n",
    "#Stop loop if the number is 7\n",
    "\n",
    "for i in range(1, 11):\n",
    "    if i == 7:\n",
    "        break\n",
    "    print(i)\n"
   ]
  },
  {
   "cell_type": "code",
   "execution_count": 23,
   "id": "51d07e49-ff66-44b1-b085-a52962412551",
   "metadata": {},
   "outputs": [
    {
     "name": "stdout",
     "output_type": "stream",
     "text": [
      "odd number:  1\n",
      "odd number:  3\n",
      "odd number:  5\n",
      "odd number:  7\n",
      "odd number:  9\n"
     ]
    }
   ],
   "source": [
    "#continue\n",
    "#Example 1\n",
    "#print odd numbers\n",
    "x=[1,2,3,4,5,6,7,8,9,10]\n",
    "for num in x:\n",
    "    if num %2 == 0:\n",
    "        continue\n",
    "    print(\"odd number: \",num)"
   ]
  },
  {
   "cell_type": "code",
   "execution_count": 24,
   "id": "4c41e2b8-20be-4761-8bc6-aec410e61ac6",
   "metadata": {},
   "outputs": [
    {
     "name": "stdout",
     "output_type": "stream",
     "text": [
      "Even Number:  2\n",
      "Even Number:  4\n",
      "Even Number:  6\n",
      "Even Number:  8\n",
      "Even Number:  10\n"
     ]
    }
   ],
   "source": [
    "#Example 2\n",
    "#To print even numbers\n",
    "abc=(1,2,3,4,5,6,7,8,9,10)\n",
    "for i in abc:\n",
    "    if i%2!=0:\n",
    "        continue\n",
    "    print(\"Even Number: \",i)"
   ]
  },
  {
   "cell_type": "code",
   "execution_count": 25,
   "id": "d481f11d-3495-4ff6-b805-a725d852a2b8",
   "metadata": {},
   "outputs": [
    {
     "name": "stdout",
     "output_type": "stream",
     "text": [
      "A\n",
      "p\n",
      "p\n",
      "l\n",
      "e\n"
     ]
    }
   ],
   "source": [
    "#pass\n",
    "#pass acts as a placeholder\n",
    "for letter in (\"Apple\"):\n",
    "    if letter =='l':\n",
    "        pass\n",
    "    print(letter)"
   ]
  },
  {
   "cell_type": "markdown",
   "id": "47b505db-d6b1-429b-b737-5e0a3157c0fc",
   "metadata": {},
   "source": [
    "Enumerate Function"
   ]
  },
  {
   "cell_type": "code",
   "execution_count": 1,
   "id": "211685e0-a73b-4978-b57f-c0c6ff973779",
   "metadata": {},
   "outputs": [
    {
     "name": "stdout",
     "output_type": "stream",
     "text": [
      "0 Porsche\n",
      "1 Bentley\n",
      "2 Aston_Martin\n",
      "3 Mustang_Shelby\n"
     ]
    }
   ],
   "source": [
    "#Example 1\n",
    "x=[\"Porsche\",\"Bentley\",\"Aston_Martin\",\"Mustang_Shelby\"]\n",
    "for index, cars in enumerate(x):\n",
    "    print(index, cars)"
   ]
  },
  {
   "cell_type": "code",
   "execution_count": 2,
   "id": "35f143b9-fb34-49ff-930b-28235d3efb0a",
   "metadata": {},
   "outputs": [
    {
     "name": "stdout",
     "output_type": "stream",
     "text": [
      "0 a\n",
      "1 b\n",
      "2 c\n"
     ]
    }
   ],
   "source": [
    "#Example 2\n",
    "abc=(\"a\",\"b\",\"c\")\n",
    "for index, ltrs in enumerate(abc):\n",
    "    print(index, ltrs)"
   ]
  },
  {
   "cell_type": "markdown",
   "id": "707fd31c-877b-4a8c-94dc-58e9008cabcf",
   "metadata": {},
   "source": [
    "User Input"
   ]
  },
  {
   "cell_type": "code",
   "execution_count": 3,
   "id": "328b5b21-ae36-4744-b373-f9114df64391",
   "metadata": {},
   "outputs": [
    {
     "name": "stdin",
     "output_type": "stream",
     "text": [
      "Enter a number:  15\n",
      "Enter a number:  3\n"
     ]
    },
    {
     "name": "stdout",
     "output_type": "stream",
     "text": [
      "a>b\n"
     ]
    }
   ],
   "source": [
    "#Example 1\n",
    "a=int(input(\"Enter a number: \"))\n",
    "b=int(input(\"Enter a number: \"))\n",
    "if a>b:\n",
    "    print(\"a>b\")\n",
    "else:\n",
    "    print(\"a<b\")"
   ]
  },
  {
   "cell_type": "code",
   "execution_count": 5,
   "id": "b9d6e9f9-ef23-4078-9bef-bd245518b4cf",
   "metadata": {},
   "outputs": [
    {
     "name": "stdin",
     "output_type": "stream",
     "text": [
      "What is  your name? Nirja\n"
     ]
    },
    {
     "name": "stdout",
     "output_type": "stream",
     "text": [
      "Hello Nirja\n"
     ]
    }
   ],
   "source": [
    "#Example 2\n",
    "name=str(input(\"What is  your name?\"))\n",
    "print(\"Hello\", name)"
   ]
  },
  {
   "cell_type": "code",
   "execution_count": 13,
   "id": "e083614c-b0f9-4f84-b6a3-9f2aa5ab1276",
   "metadata": {},
   "outputs": [
    {
     "name": "stdin",
     "output_type": "stream",
     "text": [
      "Enter your marks 32\n"
     ]
    },
    {
     "name": "stdout",
     "output_type": "stream",
     "text": [
      "Better luck next time\n"
     ]
    }
   ],
   "source": [
    "#Example 3\n",
    "marks=int(input(\"Enter your marks\"))\n",
    "if marks>=35:\n",
    "    print(\"Congratulations!!\")\n",
    "else:\n",
    "    print(\"Better luck next time\")"
   ]
  },
  {
   "cell_type": "markdown",
   "id": "8c11dec0-202e-484b-8b20-b0a63cf42fb2",
   "metadata": {},
   "source": [
    "Random Library"
   ]
  },
  {
   "cell_type": "code",
   "execution_count": 21,
   "id": "5fe5414b-1a1e-47e6-b18a-6058dbdacdac",
   "metadata": {},
   "outputs": [],
   "source": [
    "#Shuffle Function\n",
    "from random import shuffle"
   ]
  },
  {
   "cell_type": "code",
   "execution_count": 22,
   "id": "95fc62e4-3d1b-42b6-a6e7-3cd3df70480a",
   "metadata": {},
   "outputs": [
    {
     "name": "stdout",
     "output_type": "stream",
     "text": [
      "[1, 25, 33, 2, 82, 67, 45]\n"
     ]
    }
   ],
   "source": [
    "x=[1,2,33,25,67,82,45]\n",
    "shuffle(x)\n",
    "print(x)"
   ]
  },
  {
   "cell_type": "code",
   "execution_count": 24,
   "id": "1c622999-f6bf-425c-a8cf-8f87ffef4a14",
   "metadata": {},
   "outputs": [],
   "source": [
    "#Randint Function\n",
    "from random import randint"
   ]
  },
  {
   "cell_type": "code",
   "execution_count": 27,
   "id": "66e52b48-ed20-4121-8d45-e9ac3449e5e7",
   "metadata": {},
   "outputs": [
    {
     "data": {
      "text/plain": [
       "7"
      ]
     },
     "execution_count": 27,
     "metadata": {},
     "output_type": "execute_result"
    }
   ],
   "source": [
    "randint(1,100)"
   ]
  },
  {
   "cell_type": "code",
   "execution_count": null,
   "id": "3485bb24-ba5f-4980-8338-917f7ef91b0e",
   "metadata": {},
   "outputs": [],
   "source": []
  }
 ],
 "metadata": {
  "kernelspec": {
   "display_name": "Python [conda env:base] *",
   "language": "python",
   "name": "conda-base-py"
  },
  "language_info": {
   "codemirror_mode": {
    "name": "ipython",
    "version": 3
   },
   "file_extension": ".py",
   "mimetype": "text/x-python",
   "name": "python",
   "nbconvert_exporter": "python",
   "pygments_lexer": "ipython3",
   "version": "3.12.7"
  }
 },
 "nbformat": 4,
 "nbformat_minor": 5
}
