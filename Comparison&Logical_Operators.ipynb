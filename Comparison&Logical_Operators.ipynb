{
 "cells": [
  {
   "cell_type": "markdown",
   "id": "73e422c9-36f5-4b76-8d4b-0e94a4ef618b",
   "metadata": {},
   "source": [
    "Comparison & Logical Operators - Nirja\n",
    "\n",
    "Author:Nirja\n",
    "\n",
    "Date:July 12, 2025\n",
    "\n",
    "This notebook includes practice with comparison operators, logical operators, and chained conditions."
   ]
  },
  {
   "cell_type": "markdown",
   "id": "02591c55-27af-49da-8e0a-c7d318ea39cb",
   "metadata": {},
   "source": [
    "1. Comparison Operators\n",
    "   ==,!=,<,>,<=,>="
   ]
  },
  {
   "cell_type": "code",
   "execution_count": 4,
   "id": "ed5f3d99-2672-468f-8707-5aae54876b1e",
   "metadata": {},
   "outputs": [
    {
     "data": {
      "text/plain": [
       "False"
      ]
     },
     "execution_count": 4,
     "metadata": {},
     "output_type": "execute_result"
    }
   ],
   "source": [
    "#Examples with numbers and strings\n",
    "a=4\n",
    "b=2\n",
    "a>b           #True\n",
    "\"cat\"==\"dog\"  #False"
   ]
  },
  {
   "cell_type": "markdown",
   "id": "6541655f-7334-4368-8200-32d72e362cc6",
   "metadata": {},
   "source": [
    "2. Chained Comparisons"
   ]
  },
  {
   "cell_type": "code",
   "execution_count": 6,
   "id": "f9230926-e2aa-4fd6-b892-f24b766b7739",
   "metadata": {},
   "outputs": [
    {
     "data": {
      "text/plain": [
       "False"
      ]
     },
     "execution_count": 6,
     "metadata": {},
     "output_type": "execute_result"
    }
   ],
   "source": [
    "a=5\n",
    "10 > a > 4   #True\n",
    "b=25\n",
    "50 < b >15   #False"
   ]
  },
  {
   "cell_type": "markdown",
   "id": "6e00159d-3d09-4a17-9e72-9914099adbf6",
   "metadata": {},
   "source": [
    "3. Logical Operators:-\n",
    "   \n",
    "   and\n",
    "   \n",
    "   or\n",
    "   \n",
    "   not"
   ]
  },
  {
   "cell_type": "code",
   "execution_count": 7,
   "id": "dc371bc2-16b5-4021-99c4-b5cca68209f2",
   "metadata": {},
   "outputs": [
    {
     "data": {
      "text/plain": [
       "True"
      ]
     },
     "execution_count": 7,
     "metadata": {},
     "output_type": "execute_result"
    }
   ],
   "source": [
    "# and\n",
    "5 > 3 and 10 > 6  #True"
   ]
  },
  {
   "cell_type": "code",
   "execution_count": 9,
   "id": "5f426a18-6fd6-4068-87a4-c1e09c1e49af",
   "metadata": {},
   "outputs": [
    {
     "data": {
      "text/plain": [
       "True"
      ]
     },
     "execution_count": 9,
     "metadata": {},
     "output_type": "execute_result"
    }
   ],
   "source": [
    "# or\n",
    "2 > 5 or 10 < 20  #True"
   ]
  },
  {
   "cell_type": "code",
   "execution_count": 11,
   "id": "efdd9e22-5ca9-4f4e-a023-7ed5de082a74",
   "metadata": {},
   "outputs": [
    {
     "data": {
      "text/plain": [
       "True"
      ]
     },
     "execution_count": 11,
     "metadata": {},
     "output_type": "execute_result"
    }
   ],
   "source": [
    "#not\n",
    "a=10\n",
    "b=20\n",
    "not(a==b)         #True"
   ]
  },
  {
   "cell_type": "markdown",
   "id": "7c8a5bcf-5a8f-4cb5-9531-cad51f2124d6",
   "metadata": {},
   "source": [
    " 4. Practice Problem – Voting Eligibility"
   ]
  },
  {
   "cell_type": "code",
   "execution_count": 13,
   "id": "0e955863-e8db-42d1-8900-d8b1ddd50078",
   "metadata": {},
   "outputs": [
    {
     "data": {
      "text/plain": [
       "True"
      ]
     },
     "execution_count": 13,
     "metadata": {},
     "output_type": "execute_result"
    }
   ],
   "source": [
    "age = 18\n",
    "citizen = True\n",
    "(age>=18 and citizen)"
   ]
  },
  {
   "cell_type": "markdown",
   "id": "462dd1f2-76ee-4a33-941f-5c6a206562d9",
   "metadata": {},
   "source": [
    "5. Practice Problem – Login System"
   ]
  },
  {
   "cell_type": "code",
   "execution_count": 14,
   "id": "bb056076-0346-43c9-b651-de8ebaa13a67",
   "metadata": {},
   "outputs": [
    {
     "data": {
      "text/plain": [
       "False"
      ]
     },
     "execution_count": 14,
     "metadata": {},
     "output_type": "execute_result"
    }
   ],
   "source": [
    "username = \"python25\"\n",
    "password = \"1234\"\n",
    "(username ==\"c++25\" and password==\"1234\")"
   ]
  },
  {
   "cell_type": "code",
   "execution_count": null,
   "id": "303e0a38-ed14-4c2b-8383-7e69912d37cc",
   "metadata": {},
   "outputs": [],
   "source": [
    "In this notebook, I practiced:\n",
    "- Comparison operators\n",
    "- Logical conditions using `and`, `or`, and `not`\n",
    "- Chained comparisons\n",
    "- Real-life examples like login and voting logic"
   ]
  }
 ],
 "metadata": {
  "kernelspec": {
   "display_name": "Python [conda env:base] *",
   "language": "python",
   "name": "conda-base-py"
  },
  "language_info": {
   "codemirror_mode": {
    "name": "ipython",
    "version": 3
   },
   "file_extension": ".py",
   "mimetype": "text/x-python",
   "name": "python",
   "nbconvert_exporter": "python",
   "pygments_lexer": "ipython3",
   "version": "3.12.7"
  }
 },
 "nbformat": 4,
 "nbformat_minor": 5
}
