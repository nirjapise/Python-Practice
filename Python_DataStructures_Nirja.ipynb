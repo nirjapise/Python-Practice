{
 "cells": [
  {
   "cell_type": "markdown",
   "id": "562aa42c-df78-4ccc-9335-c31c1ca1fab0",
   "metadata": {},
   "source": [
    "# Python Data Structures - Nirja\n",
    "# Author: Nirja \n",
    "# Date: July 08, 2025\n",
    "# Purpose: This notebook contains practice examples of core Python data structures."
   ]
  },
  {
   "cell_type": "markdown",
   "id": "023bc68a-65ff-48e2-83f3-7a4eed6e5009",
   "metadata": {},
   "source": [
    "1. Numbers"
   ]
  },
  {
   "cell_type": "code",
   "execution_count": 52,
   "id": "533a9709-622f-419d-b6db-117b08f57929",
   "metadata": {
    "scrolled": true
   },
   "outputs": [
    {
     "name": "stdout",
     "output_type": "stream",
     "text": [
      "12.5\n"
     ]
    }
   ],
   "source": [
    "#Integer and Float example\n",
    "a=10  #int\n",
    "b=2.5 #float\n",
    "print(a + b)"
   ]
  },
  {
   "cell_type": "markdown",
   "id": "bbf719de-3f6f-4460-ae01-2ae0afeccffa",
   "metadata": {},
   "source": [
    "2. Strings"
   ]
  },
  {
   "cell_type": "code",
   "execution_count": 53,
   "id": "8f3eb1c6-2598-428e-87f5-93bca494d988",
   "metadata": {},
   "outputs": [
    {
     "name": "stdout",
     "output_type": "stream",
     "text": [
      "Hello my name is Nirja\n",
      "I am learning Python\n"
     ]
    },
    {
     "data": {
      "text/plain": [
       "'ython'"
      ]
     },
     "execution_count": 53,
     "metadata": {},
     "output_type": "execute_result"
    }
   ],
   "source": [
    "#Variable assignment #Indexing and slicing\n",
    "name = \"Nirja\"\n",
    "subject = \"Python\"\n",
    "print(\"Hello my name is\",name)\n",
    "print(\"I am learning\",subject)\n",
    "name[1]\n",
    "subject[1:6]"
   ]
  },
  {
   "cell_type": "markdown",
   "id": "1a4281d1-4222-4fe3-8491-28abf4082fbe",
   "metadata": {},
   "source": [
    "3. Lists"
   ]
  },
  {
   "cell_type": "code",
   "execution_count": 54,
   "id": "a7d49a39-c09e-49b8-ad9b-a9bc80d59b4b",
   "metadata": {},
   "outputs": [
    {
     "data": {
      "text/plain": [
       "5"
      ]
     },
     "execution_count": 54,
     "metadata": {},
     "output_type": "execute_result"
    }
   ],
   "source": [
    "Animals =[\"cat\", \"dog\", \"monkey\"]\n",
    "Animals.append(\"cow\") #.append() function is used to add an element to the respective list.\n",
    "Animals\n",
    "numbers =[1,2,3,4,5]\n",
    "numbers.pop(4) #.pop() function is used to remove an element from the list."
   ]
  },
  {
   "cell_type": "markdown",
   "id": "1b8ada1f-0081-4ba5-ae9c-792767347e15",
   "metadata": {},
   "source": [
    "4. Dictionaries"
   ]
  },
  {
   "cell_type": "code",
   "execution_count": 55,
   "id": "eb04a9d5-ba2d-4f6f-bdb8-bdad8c4072a9",
   "metadata": {},
   "outputs": [
    {
     "data": {
      "text/plain": [
       "dict_items([('k1', 100), ('k2', 200), ('k3', 300)])"
      ]
     },
     "execution_count": 55,
     "metadata": {},
     "output_type": "execute_result"
    }
   ],
   "source": [
    "my_dict ={\"k1\":100,\"k2\":200,\"k3\":300}\n",
    "my_dict[\"k1\"]\n",
    "my_dict.keys()   #prints the name of the keys assigned\n",
    "my_dict.values() #prints the value assigned to the keys\n",
    "my_dict.items()  #prints the items"
   ]
  },
  {
   "cell_type": "markdown",
   "id": "b76f9709-e3ec-4d5b-8de3-068da101cd4c",
   "metadata": {},
   "source": [
    "5. Tuples"
   ]
  },
  {
   "cell_type": "code",
   "execution_count": 56,
   "id": "5d4dc5ed-720b-46b8-b824-e27e5dc05e6e",
   "metadata": {},
   "outputs": [
    {
     "name": "stdout",
     "output_type": "stream",
     "text": [
      "Marks obtained: 30\n"
     ]
    }
   ],
   "source": [
    "marks =(10,20,30)\n",
    "print(\"Marks obtained:\",marks[2])"
   ]
  },
  {
   "cell_type": "markdown",
   "id": "ecd86bce-c583-4808-8429-f182ef1fcff2",
   "metadata": {},
   "source": [
    "6. Sets"
   ]
  },
  {
   "cell_type": "code",
   "execution_count": 57,
   "id": "a6778382-1e48-43b5-859e-797f30bf9c5d",
   "metadata": {},
   "outputs": [
    {
     "data": {
      "text/plain": [
       "{1, 2, 3, 4, 5, 6, 7, 8}"
      ]
     },
     "execution_count": 57,
     "metadata": {},
     "output_type": "execute_result"
    }
   ],
   "source": [
    "set([1,2,2,2,2,3,4,5,5,5,6,7,7,7,8,8]) #set is a collection of unique elements."
   ]
  },
  {
   "cell_type": "markdown",
   "id": "ee5aa0b2-a847-4f1f-953a-bc6d741f8d13",
   "metadata": {},
   "source": [
    "7. Booleans"
   ]
  },
  {
   "cell_type": "code",
   "execution_count": 58,
   "id": "2b824a23-db33-4f37-9eda-ac5f040d4cd7",
   "metadata": {},
   "outputs": [
    {
     "data": {
      "text/plain": [
       "True"
      ]
     },
     "execution_count": 58,
     "metadata": {},
     "output_type": "execute_result"
    }
   ],
   "source": [
    "#Boolean is a data type which returns a True or False value.\n",
    "a=10\n",
    "b=20\n",
    "a<b"
   ]
  },
  {
   "cell_type": "markdown",
   "id": "d8501b01-ac39-4e89-93a6-12f7fd4c92a9",
   "metadata": {},
   "source": [
    "## 📌 Summary\n",
    "This notebook helped me practice:\n",
    "- Basic arithmetic and variable types\n",
    "- Data structures like strings, lists, dictionaries, tuples, sets, and booleans\n",
    "- Indexing, slicing, and built-in functions"
   ]
  }
 ],
 "metadata": {
  "kernelspec": {
   "display_name": "Python [conda env:base] *",
   "language": "python",
   "name": "conda-base-py"
  },
  "language_info": {
   "codemirror_mode": {
    "name": "ipython",
    "version": 3
   },
   "file_extension": ".py",
   "mimetype": "text/x-python",
   "name": "python",
   "nbconvert_exporter": "python",
   "pygments_lexer": "ipython3",
   "version": "3.12.7"
  }
 },
 "nbformat": 4,
 "nbformat_minor": 5
}
